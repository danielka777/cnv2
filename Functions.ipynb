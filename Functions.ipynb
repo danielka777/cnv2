{
  "nbformat": 4,
  "nbformat_minor": 0,
  "metadata": {
    "colab": {
      "name": "Functions.ipynb",
      "provenance": [],
      "authorship_tag": "ABX9TyMLxtQPOhJ3xL4TcAdVkF5E",
      "include_colab_link": true
    },
    "kernelspec": {
      "name": "python3",
      "display_name": "Python 3"
    },
    "language_info": {
      "name": "python"
    }
  },
  "cells": [
    {
      "cell_type": "markdown",
      "metadata": {
        "id": "view-in-github",
        "colab_type": "text"
      },
      "source": [
        "<a href=\"https://colab.research.google.com/github/danielka777/time-series-in-complex-network/blob/main/Functions.ipynb\" target=\"_parent\"><img src=\"https://colab.research.google.com/assets/colab-badge.svg\" alt=\"Open In Colab\"/></a>"
      ]
    },
    {
      "cell_type": "markdown",
      "metadata": {
        "id": "aCZap_0Ky3ZI"
      },
      "source": [
        "## **Содержание:**\n",
        "\n",
        "[1. Загрузка библиотек](#load_bibl)\n",
        "\n",
        "[2. Алгоритмы конвертации](#algs)\n",
        "*   [Алгоритм прямой видимости](#nvg)\n",
        "*   [Горизонтальный алгоритм](#hvg)\n",
        "*   [Скользящее окно для nvg](#snvg)\n",
        "*   [Скользящее окно для hvg](#shvg)\n",
        "\n",
        "[3. Функция для работы с пользователем](#user)"
      ]
    },
    {
      "cell_type": "markdown",
      "metadata": {
        "id": "CRDJHY4W0nkL"
      },
      "source": [
        "### 1. Загрузка библиотек<a name=\"load_bibl\"></a>"
      ]
    },
    {
      "cell_type": "code",
      "execution_count": null,
      "metadata": {
        "id": "u5BNCkle0vLA"
      },
      "outputs": [],
      "source": [
        "# импортируем необходимые библиотеки\n",
        "import pandas as pd\n",
        "import numpy as np\n",
        "import matplotlib.pyplot as plt\n",
        "import librosa\n",
        "import librosa.display\n",
        "from google.colab import files\n",
        "import io\n",
        "\n",
        "import time\n",
        "from tqdm import tqdm\n",
        "\n",
        "import math as m\n",
        "from pydub import AudioSegment\n"
      ]
    },
    {
      "cell_type": "markdown",
      "metadata": {
        "id": "3tErZa-z2USB"
      },
      "source": [
        "### 2. Алгоритмы конвертации<a name=\"algs\"></a>"
      ]
    },
    {
      "cell_type": "markdown",
      "metadata": {
        "id": "s0jjSjiR4O1t"
      },
      "source": [
        "#### Алгоритм прямой видимости<a name=\"nvg\"></a>"
      ]
    },
    {
      "cell_type": "code",
      "source": [
        "def nvg(y):  # на вход массив значений\n",
        "    # на выходе отсортированый массив(target source)\n",
        "    source_target = []\n",
        "    for i in tqdm(range(len(y) - 1)):\n",
        "        source_target.append([i + 1, i + 2])\n",
        "        m = y[i + 1]\n",
        "        m_t = i + 1\n",
        "        for j in range(i + 2, len(y)):\n",
        "            if m < y[j] + ((y[i] - y[j]) * ((j - m_t) / (j - i))):\n",
        "                if y[j] > m:\n",
        "                    m = y[j]\n",
        "                    m_t = j\n",
        "                source_target.append([i + 1, j + 1])\n",
        "\n",
        "    return source_target"
      ],
      "metadata": {
        "id": "6xYQXwWmRKDB"
      },
      "execution_count": null,
      "outputs": []
    },
    {
      "cell_type": "markdown",
      "metadata": {
        "id": "QvRYQq0eL9CN"
      },
      "source": [
        "#### Горизонтальный алгоритм<a name=\"hvg\"></a>\n",
        "\n",
        "\n"
      ]
    },
    {
      "cell_type": "code",
      "source": [
        "def hvg(y):  # на вход массив значений\n",
        "    # #на выходе отсортированый массив(target source)\n",
        "    source_target = []\n",
        "    for i in tqdm(range(len(y) - 1)):\n",
        "        source_target.append([i + 1, i + 2])\n",
        "        m = y[i + 1]\n",
        "        for j in range(i + 2, len(y)):\n",
        "            if y[i] <= m:\n",
        "                break\n",
        "\n",
        "            if y[i] > m and y[j] > m:\n",
        "                m = y[j]\n",
        "                source_target.append([i + 1, j + 1])\n",
        "\n",
        "    return source_target"
      ],
      "metadata": {
        "id": "6HEQ9KG_RS_K"
      },
      "execution_count": null,
      "outputs": []
    },
    {
      "cell_type": "markdown",
      "metadata": {
        "id": "pL5m-Ed2RAkz"
      },
      "source": [
        "#### Скользящее окно для nvg<a name=\"snvg\"></a>"
      ]
    },
    {
      "cell_type": "code",
      "source": [
        "def snvg(y, k):\n",
        "    n = len(y)\n",
        "    # k = 100\n",
        "    source_target = nvg(y[:k])\n",
        "\n",
        "    for i in tqdm(range(k, n)):\n",
        "        source_target.append([i, i + 1])\n",
        "        m = y[i - 1]\n",
        "        m_t = i - 1\n",
        "        for j in range(i - 2, i - k - 1, -1):\n",
        "            if m < y[j] + ((y[i] - y[j]) * ((j - m_t) / (j - i))):\n",
        "                if y[j] > m:\n",
        "                    m = y[j]\n",
        "                    m_t = j\n",
        "                source_target.append([j + 1, i + 1])\n",
        "\n",
        "    return source_target"
      ],
      "metadata": {
        "id": "saIjydCfehfp"
      },
      "execution_count": null,
      "outputs": []
    },
    {
      "cell_type": "markdown",
      "metadata": {
        "id": "7PRn05b6_sai"
      },
      "source": [
        "#### Скользящее окно для hvg<a name=\"shvg\"></a>"
      ]
    },
    {
      "cell_type": "code",
      "source": [
        "def shvg(y, k):\n",
        "    n = len(y)\n",
        "    # k = 100\n",
        "    source_target = hvg(y[:k])\n",
        "\n",
        "    for i in tqdm(range(k, n)):\n",
        "        source_target.append([i, i + 1])\n",
        "        m = y[i - 1]\n",
        "        for j in range(i-2, i-k-1, -1):\n",
        "            if y[i] <= m:\n",
        "                break\n",
        "\n",
        "            if y[i] > m and y[j] > m:\n",
        "                m = y[j]\n",
        "                source_target.append([j + 1, i + 1])"
      ],
      "metadata": {
        "id": "ltgjbqPpeoBN"
      },
      "execution_count": null,
      "outputs": []
    },
    {
      "cell_type": "markdown",
      "metadata": {
        "id": "cnhry6-ccCyH"
      },
      "source": [
        "### 3. Функция для работы с пользователем<a name=\"user\"></a>"
      ]
    },
    {
      "cell_type": "code",
      "source": [
        "def start(name_file ,x, alg, razmer=0):\n",
        "    name_file = name_file.split('.')[0]\n",
        "    #audio_data = input(\"Введите путь до аудио файла: \")\n",
        "    #sr = int(input(\"Введите частоту дискретизации:\"))\n",
        "    #x, sr = librosa.load(audio_data, sr)\n",
        "    #alg = input(\"Введите алгоритм:\")\n",
        "    if alg == 'nvg':\n",
        "        result = pd.DataFrame(nvg(x), columns=['Source', 'Target'])\n",
        "    elif alg == 'hvg':\n",
        "        result = pd.DataFrame(hvg(x), columns=['Source', 'Target'])\n",
        "    elif alg == 'snvg':\n",
        "        result = pd.DataFrame(snvg(x,razmer), columns=['Source', 'Target'])\n",
        "    elif alg == 'shvg':\n",
        "        result = pd.DataFrame(shvg(x,razmer), columns=['Source', 'Target'])\n",
        "        \n",
        "    print('задача выполнена')\n",
        "    result.to_csv('/content/res_'+name_file+'_'+alg+'.csv', index=False)\n",
        "\n",
        "    \n",
        "    files.download('/content/res_'+name_file+'_'+alg+'.csv')"
      ],
      "metadata": {
        "id": "JEv97N6bSpwW"
      },
      "execution_count": null,
      "outputs": []
    },
    {
      "cell_type": "code",
      "source": [
        "def start_music(name_file1, sr, alg, razmer=0):\n",
        "    name_file = name_file1.split('.')[0]\n",
        "    audio_data = '/content/'+ name_file1\n",
        "    x, sr = librosa.load(audio_data, sr)\n",
        "\n",
        "    if alg == 'nvg':\n",
        "        result = pd.DataFrame(nvg(x), columns=['Source', 'Target'])\n",
        "    elif alg == 'hvg':\n",
        "        result = pd.DataFrame(hvg(x), columns=['Source', 'Target'])\n",
        "    elif alg == 'snvg':\n",
        "        result = pd.DataFrame(snvg(x,razmer), columns=['Source', 'Target'])\n",
        "    elif alg == 'shvg':\n",
        "        result = pd.DataFrame(shvg(x,razmer), columns=['Source', 'Target'])\n",
        "        \n",
        "    print('задача выполнена')\n",
        "    result.to_csv('/content/res_'+name_file+'_'+alg+'.csv', index=False)\n",
        "\n",
        "    \n",
        "    files.download('/content/res_'+name_file+'_'+alg+'.csv')"
      ],
      "metadata": {
        "id": "PqFeWPlH-RKi"
      },
      "execution_count": null,
      "outputs": []
    },
    {
      "cell_type": "code",
      "source": [
        "def razdel(otrz, razr, name_file, sr, alg, razmer=0):\n",
        "  audio_data = '/content/' + name_file\n",
        "  if razr == 'wav':\n",
        "    sound = AudioSegment.from_wav(audio_data)\n",
        "  elif  razr == 'mp3':\n",
        "    sound = AudioSegment.from_mp3(audio_data)\n",
        " \n",
        "  s = m.floor(len(sound)/otrz)\n",
        "  k = 0\n",
        "  for i in range(otrz,len(sound),otrz):\n",
        "    k += 1\n",
        "    new_name = name_file.split('.')[0] + '_' + str(k)+ '.'+razr\n",
        "    sound[i-otrz: i].export('/content/'+ new_name, format=razr)\n",
        "    start_music(new_name, sr, alg, razmer)\n",
        "    if k == s:\n",
        "      k += 1\n",
        "      new_name = name_file.split('.')[0] + '_' + str(k)+ '.'+razr\n",
        "      sound[i:].export('/content/'+ new_name, format=razr)\n",
        "      start_music(new_name, sr, alg, razmer)\n",
        "      break"
      ],
      "metadata": {
        "id": "X6HklYvmQ_ES"
      },
      "execution_count": null,
      "outputs": []
    }
  ]
}