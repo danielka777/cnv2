{
  "nbformat": 4,
  "nbformat_minor": 0,
  "metadata": {
    "colab": {
      "name": "Run.ipynb",
      "provenance": [],
      "authorship_tag": "ABX9TyOMDEeL9A8uLUdTo2JyRnVh",
      "include_colab_link": true
    },
    "kernelspec": {
      "name": "python3",
      "display_name": "Python 3"
    },
    "language_info": {
      "name": "python"
    }
  },
  "cells": [
    {
      "cell_type": "markdown",
      "metadata": {
        "id": "view-in-github",
        "colab_type": "text"
      },
      "source": [
        "<a href=\"https://colab.research.google.com/github/danielka777/time-series-in-complex-network/blob/main/Run.ipynb\" target=\"_parent\"><img src=\"https://colab.research.google.com/assets/colab-badge.svg\" alt=\"Open In Colab\"/></a>"
      ]
    },
    {
      "cell_type": "markdown",
      "source": [
        "#<img src=\"https://github.com/danielka777/time-series-in-complex-network/blob/main/image/mp3_wav.png?raw=1\" width=\"100\" align=\"top\"/> конвертация музыкального файла wav mp3\n"
      ],
      "metadata": {
        "id": "P02ABLACUnxu"
      }
    },
    {
      "cell_type": "markdown",
      "source": [
        "Программа конвертирует аудифайлы mp3 и wav в сетевую стурктуру\n",
        "*   Выберите частоту дискретизации, по умолчанию рекомендуется 41кГц\n",
        "*   Выберите алгоритм обработки\n",
        "*   Запустите ячейку:\n",
        "\n",
        " ![logo](https://github.com/danielka777/time-series-in-complex-network/blob/main/image/run.png?raw=1)\n",
        "*   Выберите и загрузите ваш аудиофайл\n",
        "*   Выполните конвертацию\n",
        " \n",
        " *Если выбран алгоритм с примением скользящего окна, то необходимо выбрать размер окна(рекомендуемое значение до 50) и выполнить конвертацию*.\n",
        "\n",
        "***Маленький размер окна:*** менее качественные результаты и бастрая скорость\n",
        "\n",
        "***Большой размер окна:*** качественные результаты и медленная скорость\n",
        "\n"
      ],
      "metadata": {
        "id": "I6Fu5BxGlW_C"
      }
    },
    {
      "cell_type": "code",
      "source": [
        "#@title Выполните конвертацию\n",
        "!pip install pydub &> /dev/null\n",
        "!git clone https://github.com/danielka777/time-series-in-complex-network.git &> /dev/null\n",
        "import sys\n",
        "sys.path.insert(0,'/content/time-series-in-complex-network')\n",
        "import functions\n",
        "from google.colab import files\n",
        "\n",
        "#sr = 500 #@param {type:\"integer\"}\n",
        "частота_дискретизации = 44000 #@param {type:\"slider\", min:500, max:44000, step:500}\n",
        "sr = частота_дискретизации\n",
        "alg = \"snvg\" #@param [\"nvg\", \"hvg\", \"snvg\", \"shvg\"]\n",
        "\n",
        "#загрузка файла\n",
        "uploaded = files.upload()\n",
        "audio_data = '/content/' + list(uploaded)[0]\n",
        "\n",
        "#проверка формата\n",
        "razr = list(uploaded)[0].split('.')[1].lower()\n",
        "if razr != 'wav' and razr != 'mp3' and razr != 'wma':\n",
        "  sys.exit('выбран не тот формат файла')\n",
        "\n",
        "#выгрузка аудио\n",
        "import librosa\n",
        "x, sr = librosa.load(audio_data, sr)\n",
        "\n",
        "#слайд\n",
        "import ipywidgets as widgets\n",
        "if alg == \"snvg\" or alg == \"shvg\":\n",
        "  slider = widgets.IntSlider(value=5, min = 1 ,max=len(x)-1,step=1)\n",
        "  inp = widgets.BoundedIntText(description=\"Размер окна\", value=5, min = 1 ,max=len(x)-1,step=1)\n",
        "  display(inp, slider)\n",
        "  mylink = widgets.jslink((slider, 'value'), (inp, 'value'))\n",
        "\n",
        "#кнопка\n",
        "#from IPython.display import display\n",
        "button = widgets.Button(description=\"Выполнить конвертацию\", \n",
        "                        button_style='success',\n",
        "                        layout=widgets.Layout(width='200px', height='30px'))\n",
        "\n",
        "def on_button_clicked(a):\n",
        "    button.close()\n",
        "    if alg == \"snvg\" or alg == \"shvg\":\n",
        "      inp.close()\n",
        "      slider.close()\n",
        "      functions.start(list(uploaded)[0], x, alg, slider.value)\n",
        "    else:  \n",
        "      functions.start(list(uploaded)[0], x, alg)\n",
        "\n",
        "    \n",
        "button.on_click(on_button_clicked)\n",
        "display(button)\n",
        "\n",
        "\n"
      ],
      "metadata": {
        "id": "PfvhO18_Bjzq",
        "cellView": "form"
      },
      "execution_count": null,
      "outputs": []
    },
    {
      "cell_type": "markdown",
      "source": [
        "# <img src=\"https://github.com/danielka777/time-series-in-complex-network/blob/main/image/csv-xls.png?raw=1\" width=\"120\" align=\"top\"/>  Конвертация временных рядов "
      ],
      "metadata": {
        "id": "L-RNvp9rcMIp"
      }
    },
    {
      "cell_type": "code",
      "source": [
        "import pandas as pd\n",
        "#@title ковертация временных рядов\n",
        "!pip install pydub &> /dev/null\n",
        "!git clone https://github.com/danielka777/time-series-in-complex-network.git &> /dev/null\n",
        "import sys\n",
        "sys.path.insert(0,'/content/time-series-in-complex-network')\n",
        "import functions\n",
        "from google.colab import files\n",
        "\n",
        "alg = \"snvg\" #@param [\"nvg\", \"hvg\", \"snvg\", \"shvg\"]\n",
        "uploaded = files.upload()\n",
        "TimeSeries_data = '/content/' + list(uploaded)[0]\n",
        "razr = list(uploaded)[0].split('.')[1].lower()\n",
        "\n",
        "#проверка на формат файла\n",
        "if razr == 'csv':\n",
        "  data = pd.read_csv(TimeSeries_data)\n",
        "elif razr == 'xlsx' or razr == 'xls':\n",
        "  data = pd.read_excel(TimeSeries_data)\n",
        "else:\n",
        "  sys.exit('выбран не тот формат файла') \n",
        "\n",
        "\n",
        "print(data.head(5))\n",
        "sp = data.columns.tolist()\n",
        "for i in sp:\n",
        "  if data.dtypes[i] != \"int64\" and data.dtypes[i] != \"float64\":\n",
        "    sp.remove(i)\n",
        "\n",
        "import ipywidgets as widgets\n",
        "#выбора определнного столбца значений\n",
        "drp = widgets.Dropdown(\n",
        "    options=sp,\n",
        "    value=sp[0],\n",
        "    description='Выбор столбца значений:'\n",
        ")\n",
        "display(drp)\n",
        "\n",
        "#слайд и поле\n",
        "if alg == \"snvg\" or alg == \"shvg\":\n",
        "  slider = widgets.IntSlider(value=5, min = 1 ,max=len(data[drp.value].values)-1,step=1)\n",
        "  inp = widgets.BoundedIntText(description=\"Размер окна\", value=5, min = 1 ,max=len(data[drp.value].values)-1,step=1)\n",
        "  display(inp, slider)\n",
        "  mylink = widgets.jslink((slider, 'value'), (inp, 'value'))\n",
        "\n",
        "#кнопка\n",
        "#from IPython.display import display\n",
        "button = widgets.Button(description=\"Выполнить конвертацию\", \n",
        "                        button_style='success',\n",
        "                        layout=widgets.Layout(width='200px', height='30px'))\n",
        "\n",
        "def on_button_clicked(a):\n",
        "    button.close()\n",
        "    inp.close()\n",
        "    slider.close()\n",
        "    drp.close()\n",
        "    x = data[drp.value].values\n",
        "    functions.start(list(uploaded)[0], x, alg, slider.value)  \n",
        "\n",
        "    \n",
        "button.on_click(on_button_clicked)\n",
        "display(button)\n",
        "\n"
      ],
      "metadata": {
        "id": "mlGKJbKU4nEv",
        "cellView": "form"
      },
      "execution_count": null,
      "outputs": []
    },
    {
      "cell_type": "markdown",
      "source": [
        "# <img src=\"https://github.com/danielka777/time-series-in-complex-network/blob/main/image/clips.png?raw=1\" width=\"170\" align=\"top\"/> Конвертация с разделение музыкального файла mp3 wav"
      ],
      "metadata": {
        "id": "ozShs_vYdEmo"
      }
    },
    {
      "cell_type": "code",
      "source": [
        "#@title ковертация с разделением музыкального файлов wav mp3\n",
        "!pip install pydub &> /dev/null\n",
        "!git clone https://github.com/danielka777/time-series-in-complex-network.git &> /dev/null\n",
        "import sys\n",
        "sys.path.insert(0,'/content/time-series-in-complex-network')\n",
        "import functions\n",
        "from google.colab import files\n",
        "from pydub import AudioSegment\n",
        "import librosa\n",
        "\n",
        "#sr = 500 #@param {type:\"integer\"}\n",
        "частота_дискретизации = 1000 #@param {type:\"slider\", min:500, max:44000, step:500}\n",
        "sr = частота_дискретизации\n",
        "alg = \"snvg\" #@param [\"nvg\", \"hvg\", \"snvg\", \"shvg\"]\n",
        "\n",
        "#загрузка файла\n",
        "uploaded = files.upload()\n",
        "audio_data = '/content/' + list(uploaded)[0]\n",
        "\n",
        "\n",
        "#проверка формата\n",
        "razr = list(uploaded)[0].split('.')[1].lower()\n",
        "if razr == 'wav':\n",
        "  sound = AudioSegment.from_wav(audio_data)\n",
        "elif  razr == 'mp3':\n",
        "  sound = AudioSegment.from_mp3(audio_data)\n",
        "else:\n",
        "  sys.exit('выбран не тот формат файла')\n",
        "\n",
        "\n",
        "import ipywidgets as widgets\n",
        "#слайд разделения по секундам\n",
        "slider_r = widgets.IntSlider(description=\"Разделение\", value=1, min = 1 ,max=len(sound),step=1)\n",
        "display(slider_r)\n",
        "\n",
        "#слайд размера окна\n",
        "if alg == \"snvg\" or alg == \"shvg\":\n",
        "  inp = widgets.BoundedIntText(description=\"Размер окна\", value=10, min = 1 ,step=1)\n",
        "  display(inp)\n",
        "\n",
        "#-----------------------------1---------------------------------------------\n",
        "#кнопка 1\n",
        "#from IPython.display import display\n",
        "button = widgets.Button(description=\"Выполнить разделение и конвертацию\", \n",
        "                        button_style='success',\n",
        "                        layout=widgets.Layout(width='200px', height='30px'))\n",
        "\n",
        "def on_button_clicked(a):\n",
        "    button.close()\n",
        "    inp.close()\n",
        "    slider_r.close()\n",
        "    functions.razdel(slider_r.value, razr, list(uploaded)[0], sr, alg, inp.value)\n",
        "\n",
        "    \n",
        "button.on_click(on_button_clicked)\n",
        "display(button)\n"
      ],
      "metadata": {
        "id": "JqA7zFzmVDIR"
      },
      "execution_count": null,
      "outputs": []
    }
  ]
}